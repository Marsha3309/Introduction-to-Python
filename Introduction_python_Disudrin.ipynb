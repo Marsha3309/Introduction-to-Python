{
  "cells": [
    {
      "cell_type": "code",
      "source": [
        "# Input data stored directly into variables\n",
        "name = \"Disudrin\"\n",
        "student_id = \"0554327122\"\n",
        "score = 98"
      ],
      "metadata": {
        "id": "hUtbAX9wUYA5"
      },
      "id": "hUtbAX9wUYA5",
      "execution_count": 5,
      "outputs": []
    },
    {
      "cell_type": "code",
      "source": [
        "# Displaying the data type of each input\n",
        "print(f\"\\nName: {name} (type: {type(name)})\")\n",
        "print(f\"Student ID: {student_id} (type: {type(student_id)})\")\n",
        "print(f\"Score: {score} (type: {type(score)})\")"
      ],
      "metadata": {
        "colab": {
          "base_uri": "https://localhost:8080/"
        },
        "id": "b_4Ft5juUp8P",
        "outputId": "451cc96f-1692-48b8-f827-289fdf991afd"
      },
      "id": "b_4Ft5juUp8P",
      "execution_count": 6,
      "outputs": [
        {
          "output_type": "stream",
          "name": "stdout",
          "text": [
            "\n",
            "Name: Disudrin (type: <class 'str'>)\n",
            "Student ID: 0554327122 (type: <class 'str'>)\n",
            "Score: 98 (type: <class 'int'>)\n"
          ]
        }
      ]
    },
    {
      "cell_type": "code",
      "source": [
        "# Determining the score category using if-elif-else\n",
        "if 85 <= score <= 100:\n",
        "    grade = \"A (Excellent)\"\n",
        "elif 75 <= score <= 84:\n",
        "    grade = \"B (Good)\"\n",
        "elif 60 <= score <= 74:\n",
        "    grade = \"C (Average)\"\n",
        "elif 40 <= score <= 59:\n",
        "    grade = \"D (Poor)\"\n",
        "else:\n",
        "    grade = \"E (Very Poor)\""
      ],
      "metadata": {
        "id": "0oZxJy2wUxSy"
      },
      "id": "0oZxJy2wUxSy",
      "execution_count": 7,
      "outputs": []
    },
    {
      "cell_type": "code",
      "source": [
        "# Displaying the evaluation result\n",
        "print(\"\\nEvaluation Result:\")\n",
        "print(f\"Student: {name} (ID: {student_id})\")\n",
        "print(f\"Exam Score: {score} Grade: {grade}\")"
      ],
      "metadata": {
        "colab": {
          "base_uri": "https://localhost:8080/"
        },
        "id": "kw2SXOObU28O",
        "outputId": "c75290e4-a070-4851-db70-b8ea2db14d5e"
      },
      "id": "kw2SXOObU28O",
      "execution_count": 8,
      "outputs": [
        {
          "output_type": "stream",
          "name": "stdout",
          "text": [
            "\n",
            "Evaluation Result:\n",
            "Student: Disudrin (ID: 0554327122)\n",
            "Exam Score: 98 Grade: A (Excellent)\n"
          ]
        }
      ]
    }
  ],
  "metadata": {
    "kernelspec": {
      "display_name": "Python 3 (ipykernel)",
      "language": "python",
      "name": "python3"
    },
    "language_info": {
      "codemirror_mode": {
        "name": "ipython",
        "version": 3
      },
      "file_extension": ".py",
      "mimetype": "text/x-python",
      "name": "python",
      "nbconvert_exporter": "python",
      "pygments_lexer": "ipython3",
      "version": "3.11.4"
    },
    "colab": {
      "provenance": []
    }
  },
  "nbformat": 4,
  "nbformat_minor": 5
}